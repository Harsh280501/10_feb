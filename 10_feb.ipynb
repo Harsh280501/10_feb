{
 "cells": [
  {
   "cell_type": "markdown",
   "id": "992c4d01-9d20-4c34-9fc1-67810969d28c",
   "metadata": {},
   "source": [
    "# Q1. Which function is used to open a file? What are the different modes of opening a file? Explain each mod of file opening."
   ]
  },
  {
   "cell_type": "code",
   "execution_count": 1,
   "id": "dec03991-24a4-4106-b045-85629bd68d47",
   "metadata": {},
   "outputs": [
    {
     "data": {
      "text/plain": [
       "'\\nThe open() function opens a file, and returns it as a file object\\nDifferent mode are : \\n\\n1) \"r\" - Read - Default value. Opens a file for reading, error if the file does not exist\\n\\n2)\"a\" - Append - Opens a file for appending, creates the file if it does not exist\\n\\n3)\"w\" - Write - Opens a file for writing, creates the file if it does not exist\\n\\n4)\"x\" - Create - Creates the specified file, returns an error if the file exist\\n\\n'"
      ]
     },
     "execution_count": 1,
     "metadata": {},
     "output_type": "execute_result"
    }
   ],
   "source": [
    "\"\"\"\n",
    "The open() function opens a file, and returns it as a file object\n",
    "Different mode are : \n",
    "\n",
    "1) \"r\" - Read - Default value. Opens a file for reading, error if the file does not exist\n",
    "\n",
    "2)\"a\" - Append - Opens a file for appending, creates the file if it does not exist\n",
    "\n",
    "3)\"w\" - Write - Opens a file for writing, creates the file if it does not exist\n",
    "\n",
    "4)\"x\" - Create - Creates the specified file, returns an error if the file exist\n",
    "\n",
    "\"\"\""
   ]
  },
  {
   "cell_type": "markdown",
   "id": "d1abb151-7e79-4719-a042-a6613cda3e11",
   "metadata": {},
   "source": [
    "# Q2 Why close() function is used? Why is it important to close a file?"
   ]
  },
  {
   "cell_type": "code",
   "execution_count": 2,
   "id": "a063fe8d-0cff-49c1-951b-3054a0f5c91d",
   "metadata": {},
   "outputs": [
    {
     "data": {
      "text/plain": [
       "\"\\nWhen you open a file, the operating system gives a file handle to read/write the file. You need to close it once you are done using the file. If your program encounters an error and doesn't call f.close()\\n\""
      ]
     },
     "execution_count": 2,
     "metadata": {},
     "output_type": "execute_result"
    }
   ],
   "source": [
    "\"\"\"\n",
    "When you open a file, the operating system gives a file handle to read/write the file. You need to close it once you are done using the file. If your program encounters an error and doesn't call f.close()\n",
    "\"\"\""
   ]
  },
  {
   "cell_type": "markdown",
   "id": "93ffbca4-af2b-4540-95cf-7dd6ba90be52",
   "metadata": {},
   "source": [
    "# Q3. Write a python program to create a text file. Write ‘I want to become a Data Scientist’ in that file. Then close the file. Open this file and read the content of the file."
   ]
  },
  {
   "cell_type": "code",
   "execution_count": 13,
   "id": "60fdcf20-7eef-4d8c-8cc9-42795dde77b5",
   "metadata": {},
   "outputs": [],
   "source": [
    "with open('readme.txt', 'w') as f:\n",
    "    f.write(\"I want to be data scintist\")\n",
    "    f.close()"
   ]
  },
  {
   "cell_type": "code",
   "execution_count": 14,
   "id": "b44e1c1a-4508-4250-ae1c-6060729151a0",
   "metadata": {},
   "outputs": [
    {
     "name": "stdout",
     "output_type": "stream",
     "text": [
      "I want to be data scintist\n"
     ]
    }
   ],
   "source": [
    "f = open('readme.txt')\n",
    "print(f.read())\n"
   ]
  },
  {
   "cell_type": "markdown",
   "id": "63edd117-a3c3-4c42-9865-136e7f149ac4",
   "metadata": {},
   "source": [
    "# Q4. Explain the following with python code: read(), readline() and readlines()."
   ]
  },
  {
   "cell_type": "code",
   "execution_count": 15,
   "id": "2df892f9-4c45-4c61-91b1-e1bfce1651d3",
   "metadata": {},
   "outputs": [
    {
     "data": {
      "text/plain": [
       "'\\n\\n1)read() : Returns the read bytes in form of a string. Reads n bytes, if no n specified, reads the entire file.\\n\\n'"
      ]
     },
     "execution_count": 15,
     "metadata": {},
     "output_type": "execute_result"
    }
   ],
   "source": [
    "\"\"\"\n",
    "\n",
    "1)read() : Returns the read bytes in form of a string. Reads n bytes, if no n specified, reads the entire file.\n",
    "\n",
    "\"\"\""
   ]
  },
  {
   "cell_type": "code",
   "execution_count": 16,
   "id": "17a9a90e-59cd-49d1-9a9e-e7cbb2ee14e1",
   "metadata": {},
   "outputs": [],
   "source": [
    "with open('readme.txt', 'w') as f:\n",
    "    f.write(\"I want to be data scintist\")\n",
    "    f.close()"
   ]
  },
  {
   "cell_type": "code",
   "execution_count": 17,
   "id": "9eabef3c-0f64-4b26-b953-1b9f224e45b6",
   "metadata": {},
   "outputs": [
    {
     "name": "stdout",
     "output_type": "stream",
     "text": [
      "I want to be data scintist\n"
     ]
    }
   ],
   "source": [
    "f = open('readme.txt')\n",
    "print(f.read())\n"
   ]
  },
  {
   "cell_type": "code",
   "execution_count": 18,
   "id": "c956b3e5-37a8-426e-84a0-940295ad4ef8",
   "metadata": {},
   "outputs": [
    {
     "data": {
      "text/plain": [
       "'\\n2)readlines() is used to read all the lines at a single go and then return them as each line a string element in a list. This function can be used for small files, as it reads the whole file content to the memory, then split it into separate lines\\n'"
      ]
     },
     "execution_count": 18,
     "metadata": {},
     "output_type": "execute_result"
    }
   ],
   "source": [
    "\"\"\"\n",
    "2)readlines() is used to read all the lines at a single go and then return them as each line a string element in a list. This function can be used for small files, as it reads the whole file content to the memory, then split it into separate lines\n",
    "\"\"\""
   ]
  },
  {
   "cell_type": "code",
   "execution_count": 19,
   "id": "45f4b008-ad75-486f-b9df-bff0b2d11bc0",
   "metadata": {},
   "outputs": [
    {
     "name": "stdout",
     "output_type": "stream",
     "text": [
      "Line1: harsh\n",
      "Line2: isamalia\n",
      "Line3: 23456\n"
     ]
    }
   ],
   "source": [
    "\n",
    "\n",
    "L = [\"harsh\\n\", \"isamalia\\n\", \"23456\\n\"]\n",
    "\n",
    "\n",
    "file1 = open('myfile.txt', 'w')\n",
    "file1.writelines(L)\n",
    "file1.close()\n",
    "\n",
    "file1 = open('myfile.txt', 'r')\n",
    "Lines = file1.readlines()\n",
    "\n",
    "count = 0\n",
    "for line in Lines:\n",
    "\tcount += 1\n",
    "\tprint(\"Line{}: {}\".format(count, line.strip()))\n"
   ]
  },
  {
   "cell_type": "code",
   "execution_count": 20,
   "id": "82c2f5ea-a6f6-4390-aa62-0b1175c85657",
   "metadata": {},
   "outputs": [
    {
     "data": {
      "text/plain": [
       "'\\n3)readline() function reads a line of the file and return it in the form of the string. It takes a parameter n, which specifies the maximum number of bytes that will be read. However, does not reads more than one line, even if n exceeds the length of the line\\n\\n'"
      ]
     },
     "execution_count": 20,
     "metadata": {},
     "output_type": "execute_result"
    }
   ],
   "source": [
    "\"\"\"\n",
    "3)readline() function reads a line of the file and return it in the form of the string. It takes a parameter n, which specifies the maximum number of bytes that will be read. However, does not reads more than one line, even if n exceeds the length of the line\n",
    "\n",
    "\"\"\""
   ]
  },
  {
   "cell_type": "code",
   "execution_count": 22,
   "id": "a4113cd5-5005-40f8-a68d-3cfcb9152eef",
   "metadata": {},
   "outputs": [
    {
     "name": "stdout",
     "output_type": "stream",
     "text": [
      "Line1: harsh\n",
      "Line2: isamalia\n",
      "Line3: 23456\n"
     ]
    }
   ],
   "source": [
    "\n",
    "L =  [\"harsh\\n\", \"isamalia\\n\", \"23456\\n\"]\n",
    "\n",
    "\n",
    "file1 = open('myfile.txt', 'w')\n",
    "file1.writelines((L))\n",
    "file1.close()\n",
    "\n",
    "\n",
    "file1 = open('myfile.txt', 'r')\n",
    "count = 0\n",
    "\n",
    "while True:\n",
    "\tcount += 1\n",
    "\tline = file1.readline()\n",
    "\tif not line:\n",
    "\t\tbreak\n",
    "\tprint(\"Line{}: {}\".format(count, line.strip()))\n",
    "\n",
    "file1.close()\n"
   ]
  },
  {
   "cell_type": "markdown",
   "id": "f5428d03-e99d-428b-b4d1-16b4eeedc19b",
   "metadata": {},
   "source": [
    "# Q5. Explain why with statement is used with open(). What is the advantage of using with statement and open() together?"
   ]
  },
  {
   "cell_type": "code",
   "execution_count": 23,
   "id": "66514a3c-2efb-4b43-8905-5a24f9aa3130",
   "metadata": {},
   "outputs": [
    {
     "data": {
      "text/plain": [
       "'\\n\\nNo need to explicitly close the opened file, “with statement” takes care of that. When with the block ends, it will automatically close the file. So, it reduces the number of lines of code and reduces the chances of bug.\\n'"
      ]
     },
     "execution_count": 23,
     "metadata": {},
     "output_type": "execute_result"
    }
   ],
   "source": [
    "\"\"\"\n",
    "\n",
    "No need to explicitly close the opened file, “with statement” takes care of that. When with the block ends, it will automatically close the file. So, it reduces the number of lines of code and reduces the chances of bug.\n",
    "\"\"\""
   ]
  },
  {
   "cell_type": "markdown",
   "id": "bfffa559-dcfa-4214-bdf4-ce5263cb3397",
   "metadata": {},
   "source": [
    "# Q6 Explain the write() and writelines() functions. Give a suitable example."
   ]
  },
  {
   "cell_type": "code",
   "execution_count": 24,
   "id": "b2bcd309-ad08-42ad-8377-7d4273a726a6",
   "metadata": {},
   "outputs": [
    {
     "data": {
      "text/plain": [
       "'\\n1)write() function\\nThe write() function will write the content in the file without adding any extra characters.\\n'"
      ]
     },
     "execution_count": 24,
     "metadata": {},
     "output_type": "execute_result"
    }
   ],
   "source": [
    "\"\"\"\n",
    "1)write() function\n",
    "The write() function will write the content in the file without adding any extra characters.\n",
    "\"\"\""
   ]
  },
  {
   "cell_type": "code",
   "execution_count": 26,
   "id": "25f1dd60-e090-47e6-9495-bb5a169035cb",
   "metadata": {},
   "outputs": [
    {
     "name": "stdin",
     "output_type": "stream",
     "text": [
      "Enter the name of the employee:  Harsh\n",
      "Enter the name of the employee:  Isamalia\n",
      "Enter the name of the employee:  jenisha\n"
     ]
    },
    {
     "name": "stdout",
     "output_type": "stream",
     "text": [
      "Data is written into the file.\n"
     ]
    }
   ],
   "source": [
    "file = open(\"Employees.txt\", \"w\")\n",
    "\n",
    "for i in range(3):\n",
    "    name = input(\"Enter the name of the employee: \")\n",
    "    file.write(name)\n",
    "    file.write(\"\\n\")\n",
    "\t\n",
    "file.close()\n",
    "\n",
    "print(\"Data is written into the file.\")\n"
   ]
  },
  {
   "cell_type": "code",
   "execution_count": 27,
   "id": "3223e81b-9cf8-457d-8360-f6bc32f4fa8a",
   "metadata": {},
   "outputs": [
    {
     "data": {
      "text/plain": [
       "'\\n2) writelines() function\\nThis function writes the content of a list to a file.\\n'"
      ]
     },
     "execution_count": 27,
     "metadata": {},
     "output_type": "execute_result"
    }
   ],
   "source": [
    "\"\"\"\n",
    "2) writelines() function\n",
    "This function writes the content of a list to a file.\n",
    "\"\"\""
   ]
  },
  {
   "cell_type": "code",
   "execution_count": 28,
   "id": "9ba37de2-a634-4f27-998e-460a2afc4865",
   "metadata": {},
   "outputs": [
    {
     "name": "stdin",
     "output_type": "stream",
     "text": [
      "Enter the name of the employee:  harsh\n",
      "Enter the name of the employee:  isamalia\n",
      "Enter the name of the employee:  jenisha\n"
     ]
    },
    {
     "name": "stdout",
     "output_type": "stream",
     "text": [
      "Data is written into the file.\n"
     ]
    }
   ],
   "source": [
    "file1 = open(\"Employees.txt\", \"w\")\n",
    "lst = []\n",
    "for i in range(3):\n",
    "\tname = input(\"Enter the name of the employee: \")\n",
    "\tlst.append(name + '\\n')\n",
    "\t\n",
    "file1.writelines(lst)\n",
    "file1.close()\n",
    "print(\"Data is written into the file.\")\n"
   ]
  },
  {
   "cell_type": "code",
   "execution_count": null,
   "id": "68682907-007f-4b07-b9b4-c6651b111d05",
   "metadata": {},
   "outputs": [],
   "source": []
  }
 ],
 "metadata": {
  "kernelspec": {
   "display_name": "Python 3 (ipykernel)",
   "language": "python",
   "name": "python3"
  },
  "language_info": {
   "codemirror_mode": {
    "name": "ipython",
    "version": 3
   },
   "file_extension": ".py",
   "mimetype": "text/x-python",
   "name": "python",
   "nbconvert_exporter": "python",
   "pygments_lexer": "ipython3",
   "version": "3.10.8"
  }
 },
 "nbformat": 4,
 "nbformat_minor": 5
}
